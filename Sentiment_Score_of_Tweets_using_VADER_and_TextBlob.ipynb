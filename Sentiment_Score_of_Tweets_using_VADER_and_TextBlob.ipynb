{
  "cells": [
    {
      "cell_type": "markdown",
      "metadata": {
        "id": "view-in-github",
        "colab_type": "text"
      },
      "source": [
        "<a href=\"https://colab.research.google.com/github/bartzabel05/Sentiment_Analysis/blob/main/Sentiment_Score_of_Tweets_using_VADER_and_TextBlob.ipynb\" target=\"_parent\"><img src=\"https://colab.research.google.com/assets/colab-badge.svg\" alt=\"Open In Colab\"/></a>"
      ]
    },
    {
      "cell_type": "code",
      "execution_count": 1,
      "id": "4abe992e",
      "metadata": {
        "colab": {
          "base_uri": "https://localhost:8080/"
        },
        "id": "4abe992e",
        "outputId": "608fde86-2d22-4502-ba03-bc1f3bc80acd"
      },
      "outputs": [
        {
          "output_type": "stream",
          "name": "stderr",
          "text": [
            "[nltk_data] Downloading package stopwords to /root/nltk_data...\n",
            "[nltk_data]   Unzipping corpora/stopwords.zip.\n",
            "[nltk_data] Downloading package wordnet to /root/nltk_data...\n"
          ]
        },
        {
          "output_type": "execute_result",
          "data": {
            "text/plain": [
              "True"
            ]
          },
          "metadata": {},
          "execution_count": 1
        }
      ],
      "source": [
        "import pandas as pd\n",
        "import re\n",
        "import nltk\n",
        "from nltk.corpus import stopwords,wordnet\n",
        "from nltk.stem import PorterStemmer\n",
        "from sklearn.feature_extraction.text import CountVectorizer\n",
        "import matplotlib.pyplot as plt\n",
        "import seaborn as sns\n",
        "from tqdm.auto import tqdm\n",
        "import time\n",
        "nltk.download('stopwords')\n",
        "nltk.download('wordnet')"
      ]
    },
    {
      "cell_type": "code",
      "execution_count": 2,
      "id": "0d2f7f7f",
      "metadata": {
        "colab": {
          "base_uri": "https://localhost:8080/",
          "height": 76
        },
        "id": "0d2f7f7f",
        "outputId": "c9c7fddf-f33a-4d3f-e638-fb01b7564f44"
      },
      "outputs": [
        {
          "output_type": "display_data",
          "data": {
            "text/plain": [
              "<IPython.core.display.HTML object>"
            ],
            "text/html": [
              "\n",
              "     <input type=\"file\" id=\"files-aac802cf-e067-4055-bfae-91349e65a8a7\" name=\"files[]\" multiple disabled\n",
              "        style=\"border:none\" />\n",
              "     <output id=\"result-aac802cf-e067-4055-bfae-91349e65a8a7\">\n",
              "      Upload widget is only available when the cell has been executed in the\n",
              "      current browser session. Please rerun this cell to enable.\n",
              "      </output>\n",
              "      <script>// Copyright 2017 Google LLC\n",
              "//\n",
              "// Licensed under the Apache License, Version 2.0 (the \"License\");\n",
              "// you may not use this file except in compliance with the License.\n",
              "// You may obtain a copy of the License at\n",
              "//\n",
              "//      http://www.apache.org/licenses/LICENSE-2.0\n",
              "//\n",
              "// Unless required by applicable law or agreed to in writing, software\n",
              "// distributed under the License is distributed on an \"AS IS\" BASIS,\n",
              "// WITHOUT WARRANTIES OR CONDITIONS OF ANY KIND, either express or implied.\n",
              "// See the License for the specific language governing permissions and\n",
              "// limitations under the License.\n",
              "\n",
              "/**\n",
              " * @fileoverview Helpers for google.colab Python module.\n",
              " */\n",
              "(function(scope) {\n",
              "function span(text, styleAttributes = {}) {\n",
              "  const element = document.createElement('span');\n",
              "  element.textContent = text;\n",
              "  for (const key of Object.keys(styleAttributes)) {\n",
              "    element.style[key] = styleAttributes[key];\n",
              "  }\n",
              "  return element;\n",
              "}\n",
              "\n",
              "// Max number of bytes which will be uploaded at a time.\n",
              "const MAX_PAYLOAD_SIZE = 100 * 1024;\n",
              "\n",
              "function _uploadFiles(inputId, outputId) {\n",
              "  const steps = uploadFilesStep(inputId, outputId);\n",
              "  const outputElement = document.getElementById(outputId);\n",
              "  // Cache steps on the outputElement to make it available for the next call\n",
              "  // to uploadFilesContinue from Python.\n",
              "  outputElement.steps = steps;\n",
              "\n",
              "  return _uploadFilesContinue(outputId);\n",
              "}\n",
              "\n",
              "// This is roughly an async generator (not supported in the browser yet),\n",
              "// where there are multiple asynchronous steps and the Python side is going\n",
              "// to poll for completion of each step.\n",
              "// This uses a Promise to block the python side on completion of each step,\n",
              "// then passes the result of the previous step as the input to the next step.\n",
              "function _uploadFilesContinue(outputId) {\n",
              "  const outputElement = document.getElementById(outputId);\n",
              "  const steps = outputElement.steps;\n",
              "\n",
              "  const next = steps.next(outputElement.lastPromiseValue);\n",
              "  return Promise.resolve(next.value.promise).then((value) => {\n",
              "    // Cache the last promise value to make it available to the next\n",
              "    // step of the generator.\n",
              "    outputElement.lastPromiseValue = value;\n",
              "    return next.value.response;\n",
              "  });\n",
              "}\n",
              "\n",
              "/**\n",
              " * Generator function which is called between each async step of the upload\n",
              " * process.\n",
              " * @param {string} inputId Element ID of the input file picker element.\n",
              " * @param {string} outputId Element ID of the output display.\n",
              " * @return {!Iterable<!Object>} Iterable of next steps.\n",
              " */\n",
              "function* uploadFilesStep(inputId, outputId) {\n",
              "  const inputElement = document.getElementById(inputId);\n",
              "  inputElement.disabled = false;\n",
              "\n",
              "  const outputElement = document.getElementById(outputId);\n",
              "  outputElement.innerHTML = '';\n",
              "\n",
              "  const pickedPromise = new Promise((resolve) => {\n",
              "    inputElement.addEventListener('change', (e) => {\n",
              "      resolve(e.target.files);\n",
              "    });\n",
              "  });\n",
              "\n",
              "  const cancel = document.createElement('button');\n",
              "  inputElement.parentElement.appendChild(cancel);\n",
              "  cancel.textContent = 'Cancel upload';\n",
              "  const cancelPromise = new Promise((resolve) => {\n",
              "    cancel.onclick = () => {\n",
              "      resolve(null);\n",
              "    };\n",
              "  });\n",
              "\n",
              "  // Wait for the user to pick the files.\n",
              "  const files = yield {\n",
              "    promise: Promise.race([pickedPromise, cancelPromise]),\n",
              "    response: {\n",
              "      action: 'starting',\n",
              "    }\n",
              "  };\n",
              "\n",
              "  cancel.remove();\n",
              "\n",
              "  // Disable the input element since further picks are not allowed.\n",
              "  inputElement.disabled = true;\n",
              "\n",
              "  if (!files) {\n",
              "    return {\n",
              "      response: {\n",
              "        action: 'complete',\n",
              "      }\n",
              "    };\n",
              "  }\n",
              "\n",
              "  for (const file of files) {\n",
              "    const li = document.createElement('li');\n",
              "    li.append(span(file.name, {fontWeight: 'bold'}));\n",
              "    li.append(span(\n",
              "        `(${file.type || 'n/a'}) - ${file.size} bytes, ` +\n",
              "        `last modified: ${\n",
              "            file.lastModifiedDate ? file.lastModifiedDate.toLocaleDateString() :\n",
              "                                    'n/a'} - `));\n",
              "    const percent = span('0% done');\n",
              "    li.appendChild(percent);\n",
              "\n",
              "    outputElement.appendChild(li);\n",
              "\n",
              "    const fileDataPromise = new Promise((resolve) => {\n",
              "      const reader = new FileReader();\n",
              "      reader.onload = (e) => {\n",
              "        resolve(e.target.result);\n",
              "      };\n",
              "      reader.readAsArrayBuffer(file);\n",
              "    });\n",
              "    // Wait for the data to be ready.\n",
              "    let fileData = yield {\n",
              "      promise: fileDataPromise,\n",
              "      response: {\n",
              "        action: 'continue',\n",
              "      }\n",
              "    };\n",
              "\n",
              "    // Use a chunked sending to avoid message size limits. See b/62115660.\n",
              "    let position = 0;\n",
              "    do {\n",
              "      const length = Math.min(fileData.byteLength - position, MAX_PAYLOAD_SIZE);\n",
              "      const chunk = new Uint8Array(fileData, position, length);\n",
              "      position += length;\n",
              "\n",
              "      const base64 = btoa(String.fromCharCode.apply(null, chunk));\n",
              "      yield {\n",
              "        response: {\n",
              "          action: 'append',\n",
              "          file: file.name,\n",
              "          data: base64,\n",
              "        },\n",
              "      };\n",
              "\n",
              "      let percentDone = fileData.byteLength === 0 ?\n",
              "          100 :\n",
              "          Math.round((position / fileData.byteLength) * 100);\n",
              "      percent.textContent = `${percentDone}% done`;\n",
              "\n",
              "    } while (position < fileData.byteLength);\n",
              "  }\n",
              "\n",
              "  // All done.\n",
              "  yield {\n",
              "    response: {\n",
              "      action: 'complete',\n",
              "    }\n",
              "  };\n",
              "}\n",
              "\n",
              "scope.google = scope.google || {};\n",
              "scope.google.colab = scope.google.colab || {};\n",
              "scope.google.colab._files = {\n",
              "  _uploadFiles,\n",
              "  _uploadFilesContinue,\n",
              "};\n",
              "})(self);\n",
              "</script> "
            ]
          },
          "metadata": {}
        },
        {
          "output_type": "stream",
          "name": "stdout",
          "text": [
            "Saving mental_health.csv to mental_health.csv\n"
          ]
        }
      ],
      "source": [
        "from google.colab import files\n",
        "file=files.upload()"
      ]
    },
    {
      "cell_type": "code",
      "execution_count": 3,
      "id": "62124b6d",
      "metadata": {
        "colab": {
          "base_uri": "https://localhost:8080/",
          "height": 206
        },
        "id": "62124b6d",
        "outputId": "3a7983a4-a87a-4266-b136-3c885c5fbb25"
      },
      "outputs": [
        {
          "output_type": "execute_result",
          "data": {
            "text/plain": [
              "                                                text  label\n",
              "0  dear american teens question dutch person hear...      0\n",
              "1  nothing look forward lifei dont many reasons k...      1\n",
              "2  music recommendations im looking expand playli...      0\n",
              "3  im done trying feel betterthe reason im still ...      1\n",
              "4  worried  year old girl subject domestic physic...      1"
            ],
            "text/html": [
              "\n",
              "  <div id=\"df-0a831404-1205-4a2c-88ce-2adc85d74ad2\">\n",
              "    <div class=\"colab-df-container\">\n",
              "      <div>\n",
              "<style scoped>\n",
              "    .dataframe tbody tr th:only-of-type {\n",
              "        vertical-align: middle;\n",
              "    }\n",
              "\n",
              "    .dataframe tbody tr th {\n",
              "        vertical-align: top;\n",
              "    }\n",
              "\n",
              "    .dataframe thead th {\n",
              "        text-align: right;\n",
              "    }\n",
              "</style>\n",
              "<table border=\"1\" class=\"dataframe\">\n",
              "  <thead>\n",
              "    <tr style=\"text-align: right;\">\n",
              "      <th></th>\n",
              "      <th>text</th>\n",
              "      <th>label</th>\n",
              "    </tr>\n",
              "  </thead>\n",
              "  <tbody>\n",
              "    <tr>\n",
              "      <th>0</th>\n",
              "      <td>dear american teens question dutch person hear...</td>\n",
              "      <td>0</td>\n",
              "    </tr>\n",
              "    <tr>\n",
              "      <th>1</th>\n",
              "      <td>nothing look forward lifei dont many reasons k...</td>\n",
              "      <td>1</td>\n",
              "    </tr>\n",
              "    <tr>\n",
              "      <th>2</th>\n",
              "      <td>music recommendations im looking expand playli...</td>\n",
              "      <td>0</td>\n",
              "    </tr>\n",
              "    <tr>\n",
              "      <th>3</th>\n",
              "      <td>im done trying feel betterthe reason im still ...</td>\n",
              "      <td>1</td>\n",
              "    </tr>\n",
              "    <tr>\n",
              "      <th>4</th>\n",
              "      <td>worried  year old girl subject domestic physic...</td>\n",
              "      <td>1</td>\n",
              "    </tr>\n",
              "  </tbody>\n",
              "</table>\n",
              "</div>\n",
              "      <button class=\"colab-df-convert\" onclick=\"convertToInteractive('df-0a831404-1205-4a2c-88ce-2adc85d74ad2')\"\n",
              "              title=\"Convert this dataframe to an interactive table.\"\n",
              "              style=\"display:none;\">\n",
              "        \n",
              "  <svg xmlns=\"http://www.w3.org/2000/svg\" height=\"24px\"viewBox=\"0 0 24 24\"\n",
              "       width=\"24px\">\n",
              "    <path d=\"M0 0h24v24H0V0z\" fill=\"none\"/>\n",
              "    <path d=\"M18.56 5.44l.94 2.06.94-2.06 2.06-.94-2.06-.94-.94-2.06-.94 2.06-2.06.94zm-11 1L8.5 8.5l.94-2.06 2.06-.94-2.06-.94L8.5 2.5l-.94 2.06-2.06.94zm10 10l.94 2.06.94-2.06 2.06-.94-2.06-.94-.94-2.06-.94 2.06-2.06.94z\"/><path d=\"M17.41 7.96l-1.37-1.37c-.4-.4-.92-.59-1.43-.59-.52 0-1.04.2-1.43.59L10.3 9.45l-7.72 7.72c-.78.78-.78 2.05 0 2.83L4 21.41c.39.39.9.59 1.41.59.51 0 1.02-.2 1.41-.59l7.78-7.78 2.81-2.81c.8-.78.8-2.07 0-2.86zM5.41 20L4 18.59l7.72-7.72 1.47 1.35L5.41 20z\"/>\n",
              "  </svg>\n",
              "      </button>\n",
              "      \n",
              "  <style>\n",
              "    .colab-df-container {\n",
              "      display:flex;\n",
              "      flex-wrap:wrap;\n",
              "      gap: 12px;\n",
              "    }\n",
              "\n",
              "    .colab-df-convert {\n",
              "      background-color: #E8F0FE;\n",
              "      border: none;\n",
              "      border-radius: 50%;\n",
              "      cursor: pointer;\n",
              "      display: none;\n",
              "      fill: #1967D2;\n",
              "      height: 32px;\n",
              "      padding: 0 0 0 0;\n",
              "      width: 32px;\n",
              "    }\n",
              "\n",
              "    .colab-df-convert:hover {\n",
              "      background-color: #E2EBFA;\n",
              "      box-shadow: 0px 1px 2px rgba(60, 64, 67, 0.3), 0px 1px 3px 1px rgba(60, 64, 67, 0.15);\n",
              "      fill: #174EA6;\n",
              "    }\n",
              "\n",
              "    [theme=dark] .colab-df-convert {\n",
              "      background-color: #3B4455;\n",
              "      fill: #D2E3FC;\n",
              "    }\n",
              "\n",
              "    [theme=dark] .colab-df-convert:hover {\n",
              "      background-color: #434B5C;\n",
              "      box-shadow: 0px 1px 3px 1px rgba(0, 0, 0, 0.15);\n",
              "      filter: drop-shadow(0px 1px 2px rgba(0, 0, 0, 0.3));\n",
              "      fill: #FFFFFF;\n",
              "    }\n",
              "  </style>\n",
              "\n",
              "      <script>\n",
              "        const buttonEl =\n",
              "          document.querySelector('#df-0a831404-1205-4a2c-88ce-2adc85d74ad2 button.colab-df-convert');\n",
              "        buttonEl.style.display =\n",
              "          google.colab.kernel.accessAllowed ? 'block' : 'none';\n",
              "\n",
              "        async function convertToInteractive(key) {\n",
              "          const element = document.querySelector('#df-0a831404-1205-4a2c-88ce-2adc85d74ad2');\n",
              "          const dataTable =\n",
              "            await google.colab.kernel.invokeFunction('convertToInteractive',\n",
              "                                                     [key], {});\n",
              "          if (!dataTable) return;\n",
              "\n",
              "          const docLinkHtml = 'Like what you see? Visit the ' +\n",
              "            '<a target=\"_blank\" href=https://colab.research.google.com/notebooks/data_table.ipynb>data table notebook</a>'\n",
              "            + ' to learn more about interactive tables.';\n",
              "          element.innerHTML = '';\n",
              "          dataTable['output_type'] = 'display_data';\n",
              "          await google.colab.output.renderOutput(dataTable, element);\n",
              "          const docLink = document.createElement('div');\n",
              "          docLink.innerHTML = docLinkHtml;\n",
              "          element.appendChild(docLink);\n",
              "        }\n",
              "      </script>\n",
              "    </div>\n",
              "  </div>\n",
              "  "
            ]
          },
          "metadata": {},
          "execution_count": 3
        }
      ],
      "source": [
        "#importing the mental health corpus\n",
        "df=pd.read_csv(\"/content/mental_health.csv\")\n",
        "\n",
        "#0=>tweet is okay\n",
        "#1=>poisonous content[bad mental health]\n",
        "df.head()"
      ]
    },
    {
      "cell_type": "code",
      "execution_count": 4,
      "id": "71d43306",
      "metadata": {
        "colab": {
          "base_uri": "https://localhost:8080/"
        },
        "id": "71d43306",
        "outputId": "747b0254-f05f-43b4-b898-aa678aa536ee"
      },
      "outputs": [
        {
          "output_type": "stream",
          "name": "stdout",
          "text": [
            "<class 'pandas.core.frame.DataFrame'>\n",
            "RangeIndex: 27977 entries, 0 to 27976\n",
            "Data columns (total 2 columns):\n",
            " #   Column  Non-Null Count  Dtype \n",
            "---  ------  --------------  ----- \n",
            " 0   text    27977 non-null  object\n",
            " 1   label   27977 non-null  int64 \n",
            "dtypes: int64(1), object(1)\n",
            "memory usage: 437.3+ KB\n"
          ]
        }
      ],
      "source": [
        "df.info()"
      ]
    },
    {
      "cell_type": "code",
      "execution_count": 5,
      "id": "6c32dec8",
      "metadata": {
        "colab": {
          "base_uri": "https://localhost:8080/"
        },
        "id": "6c32dec8",
        "outputId": "2f2513dd-403f-4549-83f9-365f6958a5fc"
      },
      "outputs": [
        {
          "output_type": "execute_result",
          "data": {
            "text/plain": [
              "0    14139\n",
              "1    13838\n",
              "Name: label, dtype: int64"
            ]
          },
          "metadata": {},
          "execution_count": 5
        }
      ],
      "source": [
        "df['label'].value_counts()"
      ]
    },
    {
      "cell_type": "code",
      "execution_count": 6,
      "id": "b3ed48be",
      "metadata": {
        "colab": {
          "base_uri": "https://localhost:8080/"
        },
        "id": "b3ed48be",
        "outputId": "9f5caa6d-1dec-4113-be81-146b1a69e269"
      },
      "outputs": [
        {
          "output_type": "execute_result",
          "data": {
            "text/plain": [
              "text     False\n",
              "label    False\n",
              "dtype: bool"
            ]
          },
          "metadata": {},
          "execution_count": 6
        }
      ],
      "source": [
        "df.isna().any()"
      ]
    },
    {
      "cell_type": "code",
      "execution_count": 7,
      "id": "50e929b5",
      "metadata": {
        "colab": {
          "base_uri": "https://localhost:8080/"
        },
        "id": "50e929b5",
        "outputId": "af1eb1fa-e25e-4b1b-cdfb-a852874cf728"
      },
      "outputs": [
        {
          "output_type": "execute_result",
          "data": {
            "text/plain": [
              "text     0\n",
              "label    0\n",
              "dtype: int64"
            ]
          },
          "metadata": {},
          "execution_count": 7
        }
      ],
      "source": [
        "df.isna().sum()"
      ]
    },
    {
      "cell_type": "code",
      "execution_count": 8,
      "id": "f5bc8a72",
      "metadata": {
        "colab": {
          "base_uri": "https://localhost:8080/"
        },
        "id": "f5bc8a72",
        "outputId": "ee2f83e0-2cc5-4f7b-a18f-e1973f26a4fb"
      },
      "outputs": [
        {
          "output_type": "execute_result",
          "data": {
            "text/plain": [
              "array(['dear american teens question dutch person heard guys get way easier things learn age us sooooo thth graders like  right guys learn math',\n",
              "       'nothing look forward lifei dont many reasons keep going feel like nothing keeps going next day makes want hang myself',\n",
              "       'music recommendations im looking expand playlist usual genres alt pop minnesota hip hop steampunk various indie genres artists people like cavetown aliceband bug hunter penelope scott various rhymesayers willing explore new genresartists such anything generic rap the type exclusively sex drugs cool rapper is rap types pretty good pop popular couple years ago dunno technical genre name anyways anyone got music recommendations favorite artistssongs',\n",
              "       ...,\n",
              "       'cant get dog think ill kill myselfthe last thing im holding for yup first two applications didnt work already received many one looking for sent third one different place dont hopes high up',\n",
              "       'whats point princess bridei really think like wesley said pb life pain ampxb life sucks hurts live get better joy temporary think people happy successful fulfilled lives thats cards me wish dead every day keep wishing dead go bed wanting wake up think various ways commit redflag looks like accident ive settled single vehicle car accident bridge brick wall telephone pole note cant say suicde accident hiking mountain  live lot mountains hiking places accidently fall of already like hike bc suspicious ampxb look like accident insurance reasons kids want thinking okay ampxb hate passionately want die',\n",
              "       'got nudes person might might know snapchat do ok chick dont know added snap sent something opened nudes dont even know person thought might know school couldnt find yearbook im sure wrong person actually knows me cuz idea is looks age im  tf respond this'],\n",
              "      dtype=object)"
            ]
          },
          "metadata": {},
          "execution_count": 8
        }
      ],
      "source": [
        "df['text'].unique()"
      ]
    },
    {
      "cell_type": "code",
      "execution_count": 9,
      "id": "cecf2123",
      "metadata": {
        "colab": {
          "base_uri": "https://localhost:8080/"
        },
        "id": "cecf2123",
        "outputId": "19c85e85-827e-4d38-914f-7d30ee2ab1fa"
      },
      "outputs": [
        {
          "output_type": "execute_result",
          "data": {
            "text/plain": [
              "<bound method IndexOpsMixin.nunique of 0        dear american teens question dutch person hear...\n",
              "1        nothing look forward lifei dont many reasons k...\n",
              "2        music recommendations im looking expand playli...\n",
              "3        im done trying feel betterthe reason im still ...\n",
              "4        worried  year old girl subject domestic physic...\n",
              "                               ...                        \n",
              "27972    posting everyday people stop caring  religion ...\n",
              "27973    okay definetly need hear guys opinion ive pret...\n",
              "27974    cant get dog think ill kill myselfthe last thi...\n",
              "27975    whats point princess bridei really think like ...\n",
              "27976    got nudes person might might know snapchat do ...\n",
              "Name: text, Length: 27977, dtype: object>"
            ]
          },
          "metadata": {},
          "execution_count": 9
        }
      ],
      "source": [
        "df['text'].nunique"
      ]
    },
    {
      "cell_type": "code",
      "execution_count": 10,
      "id": "5674a503",
      "metadata": {
        "colab": {
          "base_uri": "https://localhost:8080/"
        },
        "id": "5674a503",
        "outputId": "c52eea65-ed24-4188-9d90-9770c1fbd4e3"
      },
      "outputs": [
        {
          "output_type": "execute_result",
          "data": {
            "text/plain": [
              "(27977, 2)"
            ]
          },
          "metadata": {},
          "execution_count": 10
        }
      ],
      "source": [
        "df.shape"
      ]
    },
    {
      "cell_type": "code",
      "execution_count": 11,
      "id": "a262fd48",
      "metadata": {
        "id": "a262fd48"
      },
      "outputs": [],
      "source": [
        "df['text'].drop_duplicates(inplace=True)"
      ]
    },
    {
      "cell_type": "code",
      "execution_count": 12,
      "id": "e0d66a7d",
      "metadata": {
        "id": "e0d66a7d"
      },
      "outputs": [],
      "source": [
        "class_counts=df['label'].value_counts()"
      ]
    },
    {
      "cell_type": "code",
      "execution_count": 13,
      "id": "e6798067",
      "metadata": {
        "colab": {
          "base_uri": "https://localhost:8080/"
        },
        "id": "e6798067",
        "outputId": "2156c666-9e7e-437b-edb1-c25d2c5af346"
      },
      "outputs": [
        {
          "output_type": "execute_result",
          "data": {
            "text/plain": [
              "0    14139\n",
              "1    13838\n",
              "Name: label, dtype: int64"
            ]
          },
          "metadata": {},
          "execution_count": 13
        }
      ],
      "source": [
        "class_counts"
      ]
    },
    {
      "cell_type": "code",
      "execution_count": 14,
      "id": "3bb44f13",
      "metadata": {
        "colab": {
          "base_uri": "https://localhost:8080/",
          "height": 467
        },
        "id": "3bb44f13",
        "outputId": "3101b84e-7d15-4f46-e8a6-2dfd4a093fcf"
      },
      "outputs": [
        {
          "output_type": "display_data",
          "data": {
            "text/plain": [
              "<Figure size 640x480 with 1 Axes>"
            ],
            "image/png": "[encoded data removed]"
          },
          "metadata": {}
        }
      ],
      "source": [
        "class_counts.plot(kind='bar')\n",
        "plt.title(\"Class distribution of labels\")\n",
        "plt.xlabel(\"Labels\")\n",
        "plt.ylabel(\"Tweets\")\n",
        "plt.show()"
      ]
    },
    {
      "cell_type": "code",
      "execution_count": 15,
      "id": "2d089f2d",
      "metadata": {
        "id": "2d089f2d"
      },
      "outputs": [],
      "source": [
        "from collections import Counter\n",
        "import re\n",
        "import nltk\n",
        "from nltk.corpus import stopwords"
      ]
    },
    {
      "cell_type": "code",
      "execution_count": 16,
      "id": "fcd37d94",
      "metadata": {
        "colab": {
          "base_uri": "https://localhost:8080/",
          "height": 423
        },
        "id": "fcd37d94",
        "outputId": "0d97486b-be51-451b-d9ad-2a0b3206064d"
      },
      "outputs": [
        {
          "output_type": "execute_result",
          "data": {
            "text/plain": [
              "                                                    text  label\n",
              "0      dear american teens question dutch person hear...      0\n",
              "1      nothing look forward lifei dont many reasons k...      1\n",
              "2      music recommendations im looking expand playli...      0\n",
              "3      im done trying feel betterthe reason im still ...      1\n",
              "4      worried  year old girl subject domestic physic...      1\n",
              "...                                                  ...    ...\n",
              "27972  posting everyday people stop caring  religion ...      0\n",
              "27973  okay definetly need hear guys opinion ive pret...      0\n",
              "27974  cant get dog think ill kill myselfthe last thi...      1\n",
              "27975  whats point princess bridei really think like ...      1\n",
              "27976  got nudes person might might know snapchat do ...      0\n",
              "\n",
              "[27977 rows x 2 columns]"
            ],
            "text/html": [
              "\n",
              "  <div id=\"df-799226bb-2106-4502-aa22-d4477e9243b7\">\n",
              "    <div class=\"colab-df-container\">\n",
              "      <div>\n",
              "<style scoped>\n",
              "    .dataframe tbody tr th:only-of-type {\n",
              "        vertical-align: middle;\n",
              "    }\n",
              "\n",
              "    .dataframe tbody tr th {\n",
              "        vertical-align: top;\n",
              "    }\n",
              "\n",
              "    .dataframe thead th {\n",
              "        text-align: right;\n",
              "    }\n",
              "</style>\n",
              "<table border=\"1\" class=\"dataframe\">\n",
              "  <thead>\n",
              "    <tr style=\"text-align: right;\">\n",
              "      <th></th>\n",
              "      <th>text</th>\n",
              "      <th>label</th>\n",
              "    </tr>\n",
              "  </thead>\n",
              "  <tbody>\n",
              "    <tr>\n",
              "      <th>0</th>\n",
              "      <td>dear american teens question dutch person hear...</td>\n",
              "      <td>0</td>\n",
              "    </tr>\n",
              "    <tr>\n",
              "      <th>1</th>\n",
              "      <td>nothing look forward lifei dont many reasons k...</td>\n",
              "      <td>1</td>\n",
              "    </tr>\n",
              "    <tr>\n",
              "      <th>2</th>\n",
              "      <td>music recommendations im looking expand playli...</td>\n",
              "      <td>0</td>\n",
              "    </tr>\n",
              "    <tr>\n",
              "      <th>3</th>\n",
              "      <td>im done trying feel betterthe reason im still ...</td>\n",
              "      <td>1</td>\n",
              "    </tr>\n",
              "    <tr>\n",
              "      <th>4</th>\n",
              "      <td>worried  year old girl subject domestic physic...</td>\n",
              "      <td>1</td>\n",
              "    </tr>\n",
              "    <tr>\n",
              "      <th>...</th>\n",
              "      <td>...</td>\n",
              "      <td>...</td>\n",
              "    </tr>\n",
              "    <tr>\n",
              "      <th>27972</th>\n",
              "      <td>posting everyday people stop caring  religion ...</td>\n",
              "      <td>0</td>\n",
              "    </tr>\n",
              "    <tr>\n",
              "      <th>27973</th>\n",
              "      <td>okay definetly need hear guys opinion ive pret...</td>\n",
              "      <td>0</td>\n",
              "    </tr>\n",
              "    <tr>\n",
              "      <th>27974</th>\n",
              "      <td>cant get dog think ill kill myselfthe last thi...</td>\n",
              "      <td>1</td>\n",
              "    </tr>\n",
              "    <tr>\n",
              "      <th>27975</th>\n",
              "      <td>whats point princess bridei really think like ...</td>\n",
              "      <td>1</td>\n",
              "    </tr>\n",
              "    <tr>\n",
              "      <th>27976</th>\n",
              "      <td>got nudes person might might know snapchat do ...</td>\n",
              "      <td>0</td>\n",
              "    </tr>\n",
              "  </tbody>\n",
              "</table>\n",
              "<p>27977 rows × 2 columns</p>\n",
              "</div>\n",
              "      <button class=\"colab-df-convert\" onclick=\"convertToInteractive('df-799226bb-2106-4502-aa22-d4477e9243b7')\"\n",
              "              title=\"Convert this dataframe to an interactive table.\"\n",
              "              style=\"display:none;\">\n",
              "        \n",
              "  <svg xmlns=\"http://www.w3.org/2000/svg\" height=\"24px\"viewBox=\"0 0 24 24\"\n",
              "       width=\"24px\">\n",
              "    <path d=\"M0 0h24v24H0V0z\" fill=\"none\"/>\n",
              "    <path d=\"M18.56 5.44l.94 2.06.94-2.06 2.06-.94-2.06-.94-.94-2.06-.94 2.06-2.06.94zm-11 1L8.5 8.5l.94-2.06 2.06-.94-2.06-.94L8.5 2.5l-.94 2.06-2.06.94zm10 10l.94 2.06.94-2.06 2.06-.94-2.06-.94-.94-2.06-.94 2.06-2.06.94z\"/><path d=\"M17.41 7.96l-1.37-1.37c-.4-.4-.92-.59-1.43-.59-.52 0-1.04.2-1.43.59L10.3 9.45l-7.72 7.72c-.78.78-.78 2.05 0 2.83L4 21.41c.39.39.9.59 1.41.59.51 0 1.02-.2 1.41-.59l7.78-7.78 2.81-2.81c.8-.78.8-2.07 0-2.86zM5.41 20L4 18.59l7.72-7.72 1.47 1.35L5.41 20z\"/>\n",
              "  </svg>\n",
              "      </button>\n",
              "      \n",
              "  <style>\n",
              "    .colab-df-container {\n",
              "      display:flex;\n",
              "      flex-wrap:wrap;\n",
              "      gap: 12px;\n",
              "    }\n",
              "\n",
              "    .colab-df-convert {\n",
              "      background-color: #E8F0FE;\n",
              "      border: none;\n",
              "      border-radius: 50%;\n",
              "      cursor: pointer;\n",
              "      display: none;\n",
              "      fill: #1967D2;\n",
              "      height: 32px;\n",
              "      padding: 0 0 0 0;\n",
              "      width: 32px;\n",
              "    }\n",
              "\n",
              "    .colab-df-convert:hover {\n",
              "      background-color: #E2EBFA;\n",
              "      box-shadow: 0px 1px 2px rgba(60, 64, 67, 0.3), 0px 1px 3px 1px rgba(60, 64, 67, 0.15);\n",
              "      fill: #174EA6;\n",
              "    }\n",
              "\n",
              "    [theme=dark] .colab-df-convert {\n",
              "      background-color: #3B4455;\n",
              "      fill: #D2E3FC;\n",
              "    }\n",
              "\n",
              "    [theme=dark] .colab-df-convert:hover {\n",
              "      background-color: #434B5C;\n",
              "      box-shadow: 0px 1px 3px 1px rgba(0, 0, 0, 0.15);\n",
              "      filter: drop-shadow(0px 1px 2px rgba(0, 0, 0, 0.3));\n",
              "      fill: #FFFFFF;\n",
              "    }\n",
              "  </style>\n",
              "\n",
              "      <script>\n",
              "        const buttonEl =\n",
              "          document.querySelector('#df-799226bb-2106-4502-aa22-d4477e9243b7 button.colab-df-convert');\n",
              "        buttonEl.style.display =\n",
              "          google.colab.kernel.accessAllowed ? 'block' : 'none';\n",
              "\n",
              "        async function convertToInteractive(key) {\n",
              "          const element = document.querySelector('#df-799226bb-2106-4502-aa22-d4477e9243b7');\n",
              "          const dataTable =\n",
              "            await google.colab.kernel.invokeFunction('convertToInteractive',\n",
              "                                                     [key], {});\n",
              "          if (!dataTable) return;\n",
              "\n",
              "          const docLinkHtml = 'Like what you see? Visit the ' +\n",
              "            '<a target=\"_blank\" href=https://colab.research.google.com/notebooks/data_table.ipynb>data table notebook</a>'\n",
              "            + ' to learn more about interactive tables.';\n",
              "          element.innerHTML = '';\n",
              "          dataTable['output_type'] = 'display_data';\n",
              "          await google.colab.output.renderOutput(dataTable, element);\n",
              "          const docLink = document.createElement('div');\n",
              "          docLink.innerHTML = docLinkHtml;\n",
              "          element.appendChild(docLink);\n",
              "        }\n",
              "      </script>\n",
              "    </div>\n",
              "  </div>\n",
              "  "
            ]
          },
          "metadata": {},
          "execution_count": 16
        }
      ],
      "source": [
        "df"
      ]
    },
    {
      "cell_type": "code",
      "execution_count": 17,
      "id": "4ccfac2f",
      "metadata": {
        "id": "4ccfac2f"
      },
      "outputs": [],
      "source": [
        "from nltk.corpus import stopwords,wordnet\n",
        "stop_words=list(stopwords.words(\"english\"))\n",
        "new_stop_words=[\"using\",\"show\",\"result\",\"large\",\"also\",\"I 'm'\",\"iv\",\"ive\",\"one\",\"two\",\"new\",\"previously\",\"shown\",\"Im\",\"I'm\",\"im\",\"I' m\",\"didnt\",\"dont\",\"didn't\",\"don't\",\"done\",\"did\",\"wasnt\",\"wasn't\",\"was\",\"ill\"]\n",
        "for w in new_stop_words:\n",
        "    stop_words.append(w)"
      ]
    },
    {
      "cell_type": "code",
      "execution_count": 18,
      "id": "dc6b405a",
      "metadata": {
        "id": "dc6b405a"
      },
      "outputs": [],
      "source": [
        "from nltk.stem.porter import PorterStemmer\n",
        "from nltk.stem.wordnet import WordNetLemmatizer\n",
        "import re\n",
        "import nltk\n",
        "from nltk.tokenize import RegexpTokenizer"
      ]
    },
    {
      "cell_type": "code",
      "execution_count": null,
      "id": "d257336d",
      "metadata": {
        "colab": {
          "base_uri": "https://localhost:8080/"
        },
        "id": "d257336d",
        "outputId": "03a3cd90-7cac-4ddb-ef68-1e8006163ed3"
      },
      "outputs": [
        {
          "output_type": "stream",
          "name": "stderr",
          "text": [
            "[nltk_data] Downloading package punkt to /root/nltk_data...\n",
            "[nltk_data]   Unzipping tokenizers/punkt.zip.\n"
          ]
        }
      ],
      "source": [
        "nltk.download('punkt')\n",
        "corpus=[]\n",
        "for i in range(27977):\n",
        "#remove urls,mentions and hashtags from text\n",
        "#substitute urls,mentions and hashtags with blank space\n",
        "    text=re.sub(r'http\\S+','',df['text'][i])\n",
        "    text=re.sub(r'@\\S+','',text)\n",
        "    text=re.sub(r'#\\S+','',text)\n",
        "    text=re.sub(r'\\W+',' ',text)\n",
        "    text=re.sub(r'\\\\d|\\\\W+',' ',text)\n",
        "    text=text.lower()\n",
        "#     cleaning non english words\n",
        "    text=text.replace(\"[^a-zA-Z]\",\" \")\n",
        "    word_tokens=nltk.word_tokenize(text)\n",
        "    filtered_word=[w for w in word_tokens if all(ord(c)<128 for c in w)]\n",
        "    filtered_word=[w+\" \" for w in filtered_word]\n",
        "    text=\"\".join(filtered_word)\n",
        "    # removing stop words\n",
        "    word_tokens=nltk.word_tokenize(text)\n",
        "    filtered_word=[w for w in word_tokens if not w in stop_words]\n",
        "    filtered_word=[w+\" \" for w in filtered_word]\n",
        "    text=\"\".join(filtered_word)\n",
        "#     text=re.sub(r'[^a-zA-Z]',' ',text)\n",
        "#     text=re.sub(\"&lt;/?.*&gt\",\"&lt;&gt; \",text)\n",
        "#     words=text.split()\n",
        "#     ps=PorterStemmer()\n",
        "#     lem=WordNetLemmatizer()\n",
        "#     text=[lem.lemmatize(word) for word in text if not word in stop_words]\n",
        "#     text=\"\".join(text)\n",
        "    corpus.append(text)"
      ]
    },
    {
      "cell_type": "code",
      "execution_count": null,
      "id": "b8862121",
      "metadata": {
        "id": "b8862121"
      },
      "outputs": [],
      "source": [
        "corpus"
      ]
    },
    {
      "cell_type": "code",
      "execution_count": null,
      "id": "f66b2f89",
      "metadata": {
        "id": "f66b2f89"
      },
      "outputs": [],
      "source": [
        "#removing stop words if any from the sentence\n",
        "df['clean_text']=corpus\n",
        "all_text=''.join(df['clean_text'].values)\n",
        "words=all_text.split()"
      ]
    },
    {
      "cell_type": "code",
      "execution_count": null,
      "id": "f442ec24",
      "metadata": {
        "id": "f442ec24"
      },
      "outputs": [],
      "source": [
        "df"
      ]
    },
    {
      "cell_type": "code",
      "execution_count": null,
      "id": "b714ed90",
      "metadata": {
        "id": "b714ed90"
      },
      "outputs": [],
      "source": [
        "word_counts=Counter(words)\n",
        "top_words=word_counts.most_common(10)"
      ]
    },
    {
      "cell_type": "code",
      "execution_count": null,
      "id": "3da9a040",
      "metadata": {
        "id": "3da9a040"
      },
      "outputs": [],
      "source": [
        "top_words"
      ]
    },
    {
      "cell_type": "code",
      "execution_count": null,
      "id": "940a6a80",
      "metadata": {
        "id": "940a6a80"
      },
      "outputs": [],
      "source": [
        "#get frequency for each word\n",
        "fd=nltk.FreqDist(words)\n",
        "fd.tabulate(3)"
      ]
    },
    {
      "cell_type": "code",
      "execution_count": null,
      "id": "bd8dae78",
      "metadata": {
        "id": "bd8dae78"
      },
      "outputs": [],
      "source": [
        "#most commonly used words\n",
        "# top_words=word_counts.most_common(10)\n",
        "x_values=[word[0] for word in top_words]\n",
        "y_values=[word[1] for word in top_words]\n",
        "plt.bar(x_values,y_values)\n",
        "plt.xlabel('Word')\n",
        "plt.ylabel('Frequency')\n",
        "plt.title(\"Most commonly used words\")\n",
        "plt.show()"
      ]
    },
    {
      "cell_type": "code",
      "execution_count": null,
      "id": "4867cb9c",
      "metadata": {
        "id": "4867cb9c"
      },
      "outputs": [],
      "source": [
        "df.head()"
      ]
    },
    {
      "cell_type": "code",
      "execution_count": null,
      "id": "5e01e7b9",
      "metadata": {
        "id": "5e01e7b9"
      },
      "outputs": [],
      "source": [
        "from wordcloud import WordCloud"
      ]
    },
    {
      "cell_type": "code",
      "execution_count": null,
      "id": "46dc9fd0",
      "metadata": {
        "id": "46dc9fd0"
      },
      "outputs": [],
      "source": [
        "text=' '.join([word for word in df['clean_text']])\n",
        "plt.figure(figsize=(20,16),facecolor=\"None\")\n",
        "wordcloud=WordCloud(max_words=500,width=1600,height=800).generate(text)\n",
        "plt.imshow(wordcloud,interpolation=\"bilinear\")\n",
        "plt.axis(\"off\")\n",
        "plt.title(\"Most frequent words\")\n",
        "plt.show()"
      ]
    },
    {
      "cell_type": "code",
      "execution_count": null,
      "id": "d215366b",
      "metadata": {
        "id": "d215366b"
      },
      "outputs": [],
      "source": [
        "words"
      ]
    },
    {
      "cell_type": "code",
      "execution_count": null,
      "id": "5c0b73fd",
      "metadata": {
        "id": "5c0b73fd"
      },
      "outputs": [],
      "source": [
        "train=df[:100]"
      ]
    },
    {
      "cell_type": "code",
      "execution_count": null,
      "id": "955ec437",
      "metadata": {
        "id": "955ec437"
      },
      "outputs": [],
      "source": [
        "train"
      ]
    },
    {
      "cell_type": "code",
      "execution_count": null,
      "id": "0c10f986",
      "metadata": {
        "id": "0c10f986"
      },
      "outputs": [],
      "source": [
        "from textblob import TextBlob"
      ]
    },
    {
      "cell_type": "code",
      "execution_count": null,
      "id": "d5d7404d",
      "metadata": {
        "id": "d5d7404d"
      },
      "outputs": [],
      "source": [
        "#Textblob sentiment analysis\n",
        "\n",
        "def sentiment_analysis(df1):\n",
        "    def getSubjectivity(text):\n",
        "        return TextBlob(text).sentiment.subjectivity\n",
        "\n",
        "    def getPolarity(text):\n",
        "        return TextBlob(text).sentiment.polarity\n",
        "\n",
        "    df1['TextBlob_Subjectivity']=df1['clean_text'].apply(getSubjectivity)\n",
        "    df1['TextBlob_Polarity']=df1['clean_text'].apply(getPolarity)\n",
        "\n",
        "    def getAnalysisScore(score):\n",
        "        if score<0:\n",
        "              return 1\n",
        "        elif score==0 or score>0:\n",
        "              return 0\n",
        "    #get sentiment based on polarity score\n",
        "    def getSentiment(score):\n",
        "        if score<0:\n",
        "            return 'Negative'\n",
        "        elif score==0:\n",
        "            return \"Neutral\"\n",
        "        else:\n",
        "            return \"Positive\"\n",
        "\n",
        "    df1['TextBlob_Label']=df1['TextBlob_Polarity'].apply(getAnalysisScore)\n",
        "    df1['TextBlob_Sentiment']=df1['TextBlob_Polarity'].apply(getSentiment)\n",
        "    return df1"
      ]
    },
    {
      "cell_type": "code",
      "execution_count": null,
      "id": "2f8db46b",
      "metadata": {
        "id": "2f8db46b"
      },
      "outputs": [],
      "source": [
        "res=sentiment_analysis(train)"
      ]
    },
    {
      "cell_type": "code",
      "execution_count": null,
      "id": "d04add5b",
      "metadata": {
        "id": "d04add5b"
      },
      "outputs": [],
      "source": [
        "res"
      ]
    },
    {
      "cell_type": "code",
      "execution_count": null,
      "id": "34e2003d",
      "metadata": {
        "id": "34e2003d"
      },
      "outputs": [],
      "source": [
        "def getAccuracyScore(df):\n",
        "    correct=0\n",
        "    textBlobpred=df['TextBlob_Label']\n",
        "    label=df['label']\n",
        "    for i in range(100):\n",
        "        if(textBlobpred[i]==label[i]):\n",
        "            correct=correct+1\n",
        "\n",
        "    return correct/100"
      ]
    },
    {
      "cell_type": "code",
      "execution_count": null,
      "id": "54e75084",
      "metadata": {
        "id": "54e75084"
      },
      "outputs": [],
      "source": [
        "print(getAccuracyScore(res))"
      ]
    },
    {
      "cell_type": "code",
      "execution_count": null,
      "id": "6a2773a3",
      "metadata": {
        "id": "6a2773a3"
      },
      "outputs": [],
      "source": [
        "from sklearn.metrics import accuracy_score\n",
        "accuracy_score(res['TextBlob_Label'],res['label'])"
      ]
    },
    {
      "cell_type": "code",
      "execution_count": null,
      "id": "0c7cd02e",
      "metadata": {
        "id": "0c7cd02e"
      },
      "outputs": [],
      "source": [
        "\n",
        "\n",
        "fig,axes=plt.subplots(nrows=1,ncols=2,figsize=(20,16))\n",
        "res['TextBlob_Polarity'].plot(kind='hist',ax=axes[0],title=\"Polarity\")\n",
        "res['TextBlob_Subjectivity'].plot(kind='hist',ax=axes[1],title=\"Subjectivity\")\n",
        "plt.show()"
      ]
    },
    {
      "cell_type": "code",
      "execution_count": null,
      "id": "8acf21b8",
      "metadata": {
        "id": "8acf21b8"
      },
      "outputs": [],
      "source": [
        "res"
      ]
    },
    {
      "cell_type": "code",
      "execution_count": null,
      "id": "8db9baf9",
      "metadata": {
        "id": "8db9baf9"
      },
      "outputs": [],
      "source": [
        "from nltk.sentiment import SentimentIntensityAnalyzer"
      ]
    },
    {
      "cell_type": "code",
      "execution_count": null,
      "id": "9d986aea",
      "metadata": {
        "id": "9d986aea"
      },
      "outputs": [],
      "source": [
        "nltk.download('vader_lexicon')\n",
        "def sentiment_analysis_VADER(df1):\n",
        "    sentiment_scores=[]\n",
        "    def getPolarity(text):\n",
        "        sia=SentimentIntensityAnalyzer()\n",
        "        return sia.polarity_scores(text)\n",
        "\n",
        "    df1['VADER_Polarity']=df1['clean_text'].apply(getPolarity)\n",
        "\n",
        "    def getAnalysisScore(score):\n",
        "        if score[\"compound\"]>=0.05:\n",
        "            return 0\n",
        "        elif score[\"compound\"]<=-0.05:\n",
        "            return 1\n",
        "        if score[\"compound\"]>-0.05 and score[\"compound\"]<0.05:\n",
        "            return 1\n",
        "\n",
        "    def getSentiment(score):\n",
        "        if score[\"compound\"]>=0.05:\n",
        "            return \"Positive\"\n",
        "        elif score[\"compound\"]<=-0.05:\n",
        "            return \"Negative\"\n",
        "        if score[\"compound\"]>-0.05 and score[\"compound\"]<0.05:\n",
        "            return \"Neutral\"\n",
        "\n",
        "    df1['VADER_Label']=df1['VADER_Polarity'].apply(getAnalysisScore)\n",
        "    df1['VADER_Sentiment']=df1['VADER_Polarity'].apply(getSentiment)\n",
        "    return df1"
      ]
    },
    {
      "cell_type": "code",
      "execution_count": null,
      "id": "5845f308",
      "metadata": {
        "id": "5845f308"
      },
      "outputs": [],
      "source": [
        "train1=df[:100]"
      ]
    },
    {
      "cell_type": "code",
      "execution_count": null,
      "id": "c3131d01",
      "metadata": {
        "id": "c3131d01"
      },
      "outputs": [],
      "source": [
        "train1"
      ]
    },
    {
      "cell_type": "code",
      "execution_count": null,
      "id": "93d36ca6",
      "metadata": {
        "id": "93d36ca6"
      },
      "outputs": [],
      "source": [
        "res1=sentiment_analysis_VADER(train1)"
      ]
    },
    {
      "cell_type": "code",
      "execution_count": null,
      "id": "5834b5f6",
      "metadata": {
        "id": "5834b5f6"
      },
      "outputs": [],
      "source": [
        "res1.head()"
      ]
    },
    {
      "cell_type": "code",
      "source": [
        "train1"
      ],
      "metadata": {
        "id": "pP4aeR1sfVCy"
      },
      "id": "pP4aeR1sfVCy",
      "execution_count": null,
      "outputs": []
    },
    {
      "cell_type": "code",
      "execution_count": null,
      "id": "fbb9f202",
      "metadata": {
        "id": "fbb9f202"
      },
      "outputs": [],
      "source": [
        "def getAccuracyScoreVADER(df):\n",
        "    correct=0\n",
        "    VADERpred=df['VADER_Label']\n",
        "    label=df['label']\n",
        "    for i in range(100):\n",
        "        if(VADERpred[i]==label[i]):\n",
        "            correct=correct+1\n",
        "\n",
        "    return correct/100"
      ]
    },
    {
      "cell_type": "code",
      "execution_count": null,
      "id": "14d86fba",
      "metadata": {
        "id": "14d86fba"
      },
      "outputs": [],
      "source": [
        "print(getAccuracyScoreVADER(res1))"
      ]
    },
    {
      "cell_type": "code",
      "execution_count": null,
      "id": "cce7d2b9",
      "metadata": {
        "id": "cce7d2b9"
      },
      "outputs": [],
      "source": [
        "from sklearn.metrics import accuracy_score\n",
        "accuracy_score(res1['label'],res1['VADER_Label'])"
      ]
    },
    {
      "cell_type": "code",
      "execution_count": null,
      "id": "e3908005",
      "metadata": {
        "id": "e3908005"
      },
      "outputs": [],
      "source": [
        "#using VADER\n",
        "sentiment_scores=[]\n",
        "for text in df['text']:\n",
        "    sia=SentimentIntensityAnalyzer()\n",
        "    sentiment_scores.append((sia.polarity_scores(text)))\n",
        "\n",
        "print(sentiment_scores)\n",
        "sentiment_VADER_df=pd.DataFrame(sentiment_scores,columns=['neg','neu','pos','compound'])\n",
        "\n",
        "fig,axes=plt.subplots(nrows=2,ncols=2,figsize=(20,16))\n",
        "sentiment_VADER_df[\"neg\"].plot(kind='hist',ax=axes[0,0],title=\"Negative\")\n",
        "sentiment_VADER_df['neu'].plot(kind='hist',ax=axes[0,1],title=\"Neutral\")\n",
        "sentiment_VADER_df['pos'].plot(kind='hist',ax=axes[1,0],title=\"Positive\")\n",
        "sentiment_VADER_df['compound'].plot(kind='hist',ax=axes[1,1],title=\"Compound\")\n",
        "plt.show()"
      ]
    },
    {
      "cell_type": "code",
      "execution_count": null,
      "id": "421daa88",
      "metadata": {
        "id": "421daa88"
      },
      "outputs": [],
      "source": [
        "sentiment_VADER_df"
      ]
    },
    {
      "cell_type": "code",
      "execution_count": null,
      "id": "a0bc7289",
      "metadata": {
        "id": "a0bc7289"
      },
      "outputs": [],
      "source": [
        "df"
      ]
    },
    {
      "cell_type": "code",
      "execution_count": null,
      "id": "ee7687c7",
      "metadata": {
        "id": "ee7687c7"
      },
      "outputs": [],
      "source": [
        "# df=df.drop([\"VADER_Polarity\"],axis=1)\n",
        "train3=df[:100]\n",
        "# train3=train3.drop([\"VADER_Polarity\"],axis=1)"
      ]
    },
    {
      "cell_type": "code",
      "execution_count": null,
      "id": "da58a28b",
      "metadata": {
        "id": "da58a28b"
      },
      "outputs": [],
      "source": [
        "train3"
      ]
    },
    {
      "cell_type": "markdown",
      "source": [
        "# Using Transformers [default sentiment analysis pretrained model]"
      ],
      "metadata": {
        "id": "VMQQT4va1prd"
      },
      "id": "VMQQT4va1prd"
    },
    {
      "cell_type": "code",
      "source": [],
      "metadata": {
        "id": "_vsCOUng1nac"
      },
      "id": "_vsCOUng1nac",
      "execution_count": null,
      "outputs": []
    },
    {
      "cell_type": "code",
      "execution_count": null,
      "id": "0af720ee",
      "metadata": {
        "id": "0af720ee"
      },
      "outputs": [],
      "source": [
        "!pip install transformers\n",
        "!pip install tensorflow"
      ]
    },
    {
      "cell_type": "code",
      "execution_count": null,
      "id": "a5c6347b",
      "metadata": {
        "id": "a5c6347b"
      },
      "outputs": [],
      "source": [
        "from transformers import pipeline\n",
        "#using transformers default sentiment analysis model [not BERT]\n",
        "SentimentClassifier=pipeline('sentiment-analysis')"
      ]
    },
    {
      "cell_type": "code",
      "source": [
        "r=SentimentClassifier(\"I love my mother.I am going to kill her.\")\n",
        "print(r[0]['label'])"
      ],
      "metadata": {
        "id": "pLHMcIFlj7s0"
      },
      "id": "pLHMcIFlj7s0",
      "execution_count": null,
      "outputs": []
    },
    {
      "cell_type": "code",
      "execution_count": null,
      "id": "985af41f",
      "metadata": {
        "id": "985af41f"
      },
      "outputs": [],
      "source": [
        "def BERTSentiment(text):\n",
        "  return(SentimentClassifier(text)[0]['label'])"
      ]
    },
    {
      "cell_type": "code",
      "execution_count": null,
      "id": "3b6aacc4",
      "metadata": {
        "id": "3b6aacc4"
      },
      "outputs": [],
      "source": [
        "train3[\"BERTSentiment\"]=train3[\"clean_text\"].apply(BERTSentiment)\n",
        "# print(train3)"
      ]
    },
    {
      "cell_type": "code",
      "execution_count": null,
      "id": "fb5e74d8",
      "metadata": {
        "id": "fb5e74d8"
      },
      "outputs": [],
      "source": [
        "train3"
      ]
    },
    {
      "cell_type": "code",
      "source": [
        "train3[train3[\"BERTSentiment\"]==\"NEUTRAL\"]"
      ],
      "metadata": {
        "id": "hCKscv6jkxbt"
      },
      "id": "hCKscv6jkxbt",
      "execution_count": null,
      "outputs": []
    },
    {
      "cell_type": "code",
      "source": [
        "def getLabels(sentiment):\n",
        "  if sentiment==\"POSITIVE\":\n",
        "    return 0\n",
        "  if sentiment==\"NEGATIVE\":\n",
        "    return 1\n",
        "\n",
        "train3['BERTLabel']=train3[\"BERTSentiment\"].apply(getLabels)"
      ],
      "metadata": {
        "id": "Kq_an18ckjBS"
      },
      "id": "Kq_an18ckjBS",
      "execution_count": null,
      "outputs": []
    },
    {
      "cell_type": "code",
      "source": [
        "train3"
      ],
      "metadata": {
        "id": "GG7uJIV5lDdj"
      },
      "id": "GG7uJIV5lDdj",
      "execution_count": null,
      "outputs": []
    },
    {
      "cell_type": "code",
      "source": [
        "from sklearn.metrics import accuracy_score\n",
        "print(accuracy_score(train3['BERTLabel'],train3['label']))"
      ],
      "metadata": {
        "id": "YX1DKrc4lCxS"
      },
      "id": "YX1DKrc4lCxS",
      "execution_count": null,
      "outputs": []
    },
    {
      "cell_type": "markdown",
      "source": [
        "# Using dataset created from chatgpt"
      ],
      "metadata": {
        "id": "VDe709SU2LuW"
      },
      "id": "VDe709SU2LuW"
    },
    {
      "cell_type": "code",
      "execution_count": null,
      "id": "0e7661d5",
      "metadata": {
        "id": "0e7661d5"
      },
      "outputs": [],
      "source": [
        "#comments dataset\n",
        "from google.colab import files\n",
        "file=files.upload()"
      ]
    },
    {
      "cell_type": "code",
      "execution_count": null,
      "id": "8d0ff7f2",
      "metadata": {
        "id": "8d0ff7f2"
      },
      "outputs": [],
      "source": [
        "import pandas as pd\n",
        "data=pd.read_csv(\"/content/comments.csv\")"
      ]
    },
    {
      "cell_type": "code",
      "execution_count": null,
      "id": "86a5c179",
      "metadata": {
        "id": "86a5c179"
      },
      "outputs": [],
      "source": [
        "data"
      ]
    },
    {
      "cell_type": "code",
      "execution_count": null,
      "id": "b6a26778",
      "metadata": {
        "id": "b6a26778"
      },
      "outputs": [],
      "source": [
        "ddf=data[[\"Text\",\"Sentiment\"]]"
      ]
    },
    {
      "cell_type": "code",
      "execution_count": null,
      "id": "ee188def",
      "metadata": {
        "id": "ee188def"
      },
      "outputs": [],
      "source": [
        "def setLabels(Sentiment):\n",
        "    if Sentiment==\"Positive\":\n",
        "        return 0\n",
        "    if Sentiment==\"Negative\":\n",
        "        return 1\n",
        "ddf['label']=ddf[\"Sentiment\"].apply(setLabels)"
      ]
    },
    {
      "cell_type": "code",
      "execution_count": null,
      "id": "d0b31647",
      "metadata": {
        "id": "d0b31647"
      },
      "outputs": [],
      "source": [
        "ddf"
      ]
    },
    {
      "cell_type": "code",
      "execution_count": null,
      "id": "205601ad",
      "metadata": {
        "id": "205601ad"
      },
      "outputs": [],
      "source": [
        "ddf.rename(columns={'Text':'text'},inplace=True)\n",
        "corpus=[]\n",
        "for i in range(20):\n",
        "\n",
        "    text=re.sub(r'\\\\d|\\\\W+',' ',ddf['text'][i])\n",
        "    text=text.lower()\n",
        "    word_tokens=nltk.word_tokenize(text)\n",
        "    filter_words=[w for w in word_tokens if w not in stop_words]\n",
        "    filter_words=[w+\" \" for w in filter_words]\n",
        "    text=\"\".join(filter_words)\n",
        "    corpus.append(text)"
      ]
    },
    {
      "cell_type": "code",
      "execution_count": null,
      "id": "90387002",
      "metadata": {
        "id": "90387002"
      },
      "outputs": [],
      "source": [
        "corpus"
      ]
    },
    {
      "cell_type": "code",
      "execution_count": null,
      "id": "4ab37db8",
      "metadata": {
        "id": "4ab37db8"
      },
      "outputs": [],
      "source": [
        "ddf['clean_text']=corpus"
      ]
    },
    {
      "cell_type": "code",
      "execution_count": null,
      "id": "a9ecb43e",
      "metadata": {
        "id": "a9ecb43e"
      },
      "outputs": [],
      "source": [
        "ddf"
      ]
    },
    {
      "cell_type": "code",
      "execution_count": null,
      "id": "12b5099b",
      "metadata": {
        "id": "12b5099b"
      },
      "outputs": [],
      "source": [
        "test=ddf"
      ]
    },
    {
      "cell_type": "code",
      "execution_count": null,
      "id": "d563c132",
      "metadata": {
        "id": "d563c132"
      },
      "outputs": [],
      "source": [
        "res3=sentiment_analysis_VADER(test)"
      ]
    },
    {
      "cell_type": "code",
      "execution_count": null,
      "id": "89f69262",
      "metadata": {
        "id": "89f69262"
      },
      "outputs": [],
      "source": [
        "res3"
      ]
    },
    {
      "cell_type": "code",
      "execution_count": null,
      "id": "b574b93d",
      "metadata": {
        "scrolled": true,
        "id": "b574b93d"
      },
      "outputs": [],
      "source": [
        "accuracy_score(res3['label'],res3['VADER_Label'])"
      ]
    },
    {
      "cell_type": "code",
      "source": [
        "ddf"
      ],
      "metadata": {
        "id": "rv7c-EKcl3cp"
      },
      "id": "rv7c-EKcl3cp",
      "execution_count": null,
      "outputs": []
    },
    {
      "cell_type": "code",
      "execution_count": null,
      "id": "319d746b",
      "metadata": {
        "id": "319d746b"
      },
      "outputs": [],
      "source": [
        "res4=sentiment_analysis(test)"
      ]
    },
    {
      "cell_type": "code",
      "execution_count": null,
      "id": "d3d251a2",
      "metadata": {
        "id": "d3d251a2"
      },
      "outputs": [],
      "source": [
        "res4"
      ]
    },
    {
      "cell_type": "code",
      "execution_count": null,
      "id": "624cc9e7",
      "metadata": {
        "id": "624cc9e7"
      },
      "outputs": [],
      "source": [
        "print(accuracy_score(res4['TextBlob_Label'],res4['label']))"
      ]
    },
    {
      "cell_type": "code",
      "source": [
        "#using hugging face transformers pipeline with pretrained default sentiment analysis transformer [not BERT]\n",
        "ddf[\"BERTSentiment\"]=ddf[\"clean_text\"].apply(BERTSentiment)"
      ],
      "metadata": {
        "id": "iPvgLyNxmDbb"
      },
      "id": "iPvgLyNxmDbb",
      "execution_count": null,
      "outputs": []
    },
    {
      "cell_type": "code",
      "source": [
        "ddf"
      ],
      "metadata": {
        "id": "lzn1Vk2_mDCq"
      },
      "id": "lzn1Vk2_mDCq",
      "execution_count": null,
      "outputs": []
    },
    {
      "cell_type": "code",
      "source": [
        "ddf['BERTLabel']=ddf[\"BERTSentiment\"].apply(getLabels)"
      ],
      "metadata": {
        "id": "2gXmvc7jmCgC"
      },
      "id": "2gXmvc7jmCgC",
      "execution_count": null,
      "outputs": []
    },
    {
      "cell_type": "code",
      "source": [
        "ddf"
      ],
      "metadata": {
        "id": "-z_KHq1dmBzl"
      },
      "id": "-z_KHq1dmBzl",
      "execution_count": null,
      "outputs": []
    },
    {
      "cell_type": "code",
      "source": [
        "print(accuracy_score(ddf['BERTLabel'],ddf['label']))"
      ],
      "metadata": {
        "id": "or_pf-2TnNAE"
      },
      "id": "or_pf-2TnNAE",
      "execution_count": null,
      "outputs": []
    },
    {
      "cell_type": "code",
      "source": [
        "resBERT=ddf[[\"text\",\"label\",\"clean_text\",\"BERTSentiment\",\"BERTLabel\"]]"
      ],
      "metadata": {
        "id": "GtlTqKdGneA2"
      },
      "id": "GtlTqKdGneA2",
      "execution_count": null,
      "outputs": []
    },
    {
      "cell_type": "code",
      "source": [
        "resBERT"
      ],
      "metadata": {
        "id": "yCdiVPYCntMf"
      },
      "id": "yCdiVPYCntMf",
      "execution_count": null,
      "outputs": []
    },
    {
      "cell_type": "code",
      "execution_count": null,
      "id": "fb0e5890",
      "metadata": {
        "id": "fb0e5890"
      },
      "outputs": [],
      "source": [
        "#using hugging face transformers and flair\n",
        "#hugging face BERTweet Model\n",
        "\n",
        "# !pip install torch\n",
        "# !pip install transformers\n",
        "\n",
        "# import torch\n",
        "# from transformers import AutoModel,AutoTokenizer\n",
        "\n",
        "# bertweet=AutoModel.from_pretrained('vinai/bertweet-base')\n",
        "# tokenizer=AutoTokenizer.from_pretrained('vinai/bertweet-base',use_fast=False)\n",
        "\n",
        "# line=\"I love my Mother.I am going to kill her.\"\n",
        "\n",
        "# input_ids=torch.tensor([tokenizer.encode(line)])\n",
        "\n",
        "# with torch.no_grad():\n",
        "#   features=bertweet(input_ids)\n",
        "#   print(features)"
      ]
    },
    {
      "cell_type": "code",
      "source": [],
      "metadata": {
        "id": "CisqxcFyEJtC"
      },
      "id": "CisqxcFyEJtC",
      "execution_count": null,
      "outputs": []
    },
    {
      "cell_type": "markdown",
      "source": [
        "# Fine Tuning Transformers on datasets\n",
        "\n"
      ],
      "metadata": {
        "id": "nAfHjjPnkg4V"
      },
      "id": "nAfHjjPnkg4V"
    },
    {
      "cell_type": "code",
      "source": [],
      "metadata": {
        "id": "lGmaMC2PkoT_"
      },
      "id": "lGmaMC2PkoT_",
      "execution_count": null,
      "outputs": []
    }
  ],
  "metadata": {
    "kernelspec": {
      "display_name": "Python 3",
      "name": "python3"
    },
    "language_info": {
      "codemirror_mode": {
        "name": "ipython",
        "version": 3
      },
      "file_extension": ".py",
      "mimetype": "text/x-python",
      "name": "python",
      "nbconvert_exporter": "python",
      "pygments_lexer": "ipython3",
      "version": "3.10.11"
    },
    "colab": {
      "provenance": [],
      "gpuType": "T4",
      "include_colab_link": true
    },
    "accelerator": "GPU"
  },
  "nbformat": 4,
  "nbformat_minor": 5
}